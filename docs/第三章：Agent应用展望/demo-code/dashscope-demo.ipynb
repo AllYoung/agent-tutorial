{
 "cells": [
  {
   "cell_type": "code",
   "execution_count": 12,
   "metadata": {},
   "outputs": [],
   "source": [
    "import os\n",
    "\n",
    "with open('key.txt', 'r') as file:\n",
    "    DASHSCOPE_API_KEY = file.read()\n",
    "    os.environ['DASHSCOPE_API_KEY'] = DASHSCOPE_API_KEY"
   ]
  },
  {
   "cell_type": "code",
   "execution_count": 4,
   "metadata": {},
   "outputs": [
    {
     "name": "stdout",
     "output_type": "stream",
     "text": [
      "Defaulting to user installation because normal site-packages is not writeable\n",
      "Collecting dashscope\n",
      "\u001b[33m  WARNING: Retrying (Retry(total=4, connect=None, read=None, redirect=None, status=None)) after connection broken by 'ConnectTimeoutError(<pip._vendor.urllib3.connection.HTTPSConnection object at 0x1037d5130>, 'Connection to files.pythonhosted.org timed out. (connect timeout=15)')': /packages/c4/b2/df8ec42b16471af34e2d17de723d028e77a702f524c44afa83a4d08c41b2/dashscope-1.13.5-py3-none-any.whl\u001b[0m\u001b[33m\n",
      "\u001b[0m\u001b[33m  WARNING: Retrying (Retry(total=3, connect=None, read=None, redirect=None, status=None)) after connection broken by 'ReadTimeoutError(\"HTTPSConnectionPool(host='files.pythonhosted.org', port=443): Read timed out. (read timeout=15)\")': /packages/c4/b2/df8ec42b16471af34e2d17de723d028e77a702f524c44afa83a4d08c41b2/dashscope-1.13.5-py3-none-any.whl\u001b[0m\u001b[33m\n",
      "\u001b[0m  Downloading dashscope-1.13.5-py3-none-any.whl (78 kB)\n",
      "\u001b[2K     \u001b[90m━━━━━━━━━━━━━━━━━━━━━━━━━━━━━━━━━━━━━━━\u001b[0m \u001b[32m78.7/78.7 kB\u001b[0m \u001b[31m168.5 kB/s\u001b[0m eta \u001b[36m0:00:00\u001b[0ma \u001b[36m0:00:01\u001b[0m\n",
      "\u001b[?25hRequirement already satisfied: aiohttp in /Users/mac/Library/Python/3.9/lib/python/site-packages (from dashscope) (3.8.4)\n",
      "Requirement already satisfied: requests in /Users/mac/Library/Python/3.9/lib/python/site-packages (from dashscope) (2.31.0)\n",
      "Requirement already satisfied: attrs>=17.3.0 in /Users/mac/Library/Python/3.9/lib/python/site-packages (from aiohttp->dashscope) (23.1.0)\n",
      "Requirement already satisfied: charset-normalizer<4.0,>=2.0 in /Users/mac/Library/Python/3.9/lib/python/site-packages (from aiohttp->dashscope) (3.1.0)\n",
      "Requirement already satisfied: multidict<7.0,>=4.5 in /Users/mac/Library/Python/3.9/lib/python/site-packages (from aiohttp->dashscope) (6.0.4)\n",
      "Requirement already satisfied: async-timeout<5.0,>=4.0.0a3 in /Users/mac/Library/Python/3.9/lib/python/site-packages (from aiohttp->dashscope) (4.0.2)\n",
      "Requirement already satisfied: yarl<2.0,>=1.0 in /Users/mac/Library/Python/3.9/lib/python/site-packages (from aiohttp->dashscope) (1.9.2)\n",
      "Requirement already satisfied: frozenlist>=1.1.1 in /Users/mac/Library/Python/3.9/lib/python/site-packages (from aiohttp->dashscope) (1.3.3)\n",
      "Requirement already satisfied: aiosignal>=1.1.2 in /Users/mac/Library/Python/3.9/lib/python/site-packages (from aiohttp->dashscope) (1.3.1)\n",
      "Requirement already satisfied: idna<4,>=2.5 in /Users/mac/Library/Python/3.9/lib/python/site-packages (from requests->dashscope) (3.4)\n",
      "Requirement already satisfied: urllib3<3,>=1.21.1 in /Users/mac/Library/Python/3.9/lib/python/site-packages (from requests->dashscope) (1.26.6)\n",
      "Requirement already satisfied: certifi>=2017.4.17 in /Users/mac/Library/Python/3.9/lib/python/site-packages (from requests->dashscope) (2023.5.7)\n",
      "Installing collected packages: dashscope\n",
      "Successfully installed dashscope-1.13.5\n",
      "\n",
      "\u001b[1m[\u001b[0m\u001b[34;49mnotice\u001b[0m\u001b[1;39;49m]\u001b[0m\u001b[39;49m A new release of pip is available: \u001b[0m\u001b[31;49m23.1.2\u001b[0m\u001b[39;49m -> \u001b[0m\u001b[32;49m23.3.1\u001b[0m\n",
      "\u001b[1m[\u001b[0m\u001b[34;49mnotice\u001b[0m\u001b[1;39;49m]\u001b[0m\u001b[39;49m To update, run: \u001b[0m\u001b[32;49m/Library/Developer/CommandLineTools/usr/bin/python3 -m pip install --upgrade pip\u001b[0m\n",
      "Note: you may need to restart the kernel to use updated packages.\n"
     ]
    }
   ],
   "source": [
    "pip install dashscope"
   ]
  },
  {
   "cell_type": "code",
   "execution_count": 13,
   "metadata": {},
   "outputs": [
    {
     "name": "stdout",
     "output_type": "stream",
     "text": [
      "Speech synthesizer is opened.\n"
     ]
    },
    {
     "ename": "RuntimeError",
     "evalue": "Cannot run the event loop while another loop is running",
     "output_type": "error",
     "traceback": [
      "\u001b[0;31m---------------------------------------------------------------------------\u001b[0m",
      "\u001b[0;31mRuntimeError\u001b[0m                              Traceback (most recent call last)",
      "\u001b[1;32m/Users/mac/Documents/Working/1_Me/2_Datawhale/教程编写/动手学Agent开发/agent-tutorial/notebook/第三章：Agent应用展望/demo-code/dashscope-demo.ipynb 单元格 3\u001b[0m line \u001b[0;36m3\n\u001b[1;32m     <a href='vscode-notebook-cell:/Users/mac/Documents/Working/1_Me/2_Datawhale/%E6%95%99%E7%A8%8B%E7%BC%96%E5%86%99/%E5%8A%A8%E6%89%8B%E5%AD%A6Agent%E5%BC%80%E5%8F%91/agent-tutorial/notebook/%E7%AC%AC%E4%B8%89%E7%AB%A0%EF%BC%9AAgent%E5%BA%94%E7%94%A8%E5%B1%95%E6%9C%9B/demo-code/dashscope-demo.ipynb#W0sZmlsZQ%3D%3D?line=27'>28</a>\u001b[0m             \u001b[39mprint\u001b[39m(\u001b[39m'\u001b[39m\u001b[39mtimestamp result:\u001b[39m\u001b[39m'\u001b[39m, \u001b[39mstr\u001b[39m(result\u001b[39m.\u001b[39mget_timestamp()))\n\u001b[1;32m     <a href='vscode-notebook-cell:/Users/mac/Documents/Working/1_Me/2_Datawhale/%E6%95%99%E7%A8%8B%E7%BC%96%E5%86%99/%E5%8A%A8%E6%89%8B%E5%AD%A6Agent%E5%BC%80%E5%8F%91/agent-tutorial/notebook/%E7%AC%AC%E4%B8%89%E7%AB%A0%EF%BC%9AAgent%E5%BA%94%E7%94%A8%E5%B1%95%E6%9C%9B/demo-code/dashscope-demo.ipynb#W0sZmlsZQ%3D%3D?line=29'>30</a>\u001b[0m callback \u001b[39m=\u001b[39m Callback()\n\u001b[0;32m---> <a href='vscode-notebook-cell:/Users/mac/Documents/Working/1_Me/2_Datawhale/%E6%95%99%E7%A8%8B%E7%BC%96%E5%86%99/%E5%8A%A8%E6%89%8B%E5%AD%A6Agent%E5%BC%80%E5%8F%91/agent-tutorial/notebook/%E7%AC%AC%E4%B8%89%E7%AB%A0%EF%BC%9AAgent%E5%BA%94%E7%94%A8%E5%B1%95%E6%9C%9B/demo-code/dashscope-demo.ipynb#W0sZmlsZQ%3D%3D?line=30'>31</a>\u001b[0m SpeechSynthesizer\u001b[39m.\u001b[39;49mcall(model\u001b[39m=\u001b[39;49m\u001b[39m'\u001b[39;49m\u001b[39msambert-zhichu-v1\u001b[39;49m\u001b[39m'\u001b[39;49m,\n\u001b[1;32m     <a href='vscode-notebook-cell:/Users/mac/Documents/Working/1_Me/2_Datawhale/%E6%95%99%E7%A8%8B%E7%BC%96%E5%86%99/%E5%8A%A8%E6%89%8B%E5%AD%A6Agent%E5%BC%80%E5%8F%91/agent-tutorial/notebook/%E7%AC%AC%E4%B8%89%E7%AB%A0%EF%BC%9AAgent%E5%BA%94%E7%94%A8%E5%B1%95%E6%9C%9B/demo-code/dashscope-demo.ipynb#W0sZmlsZQ%3D%3D?line=31'>32</a>\u001b[0m                        text\u001b[39m=\u001b[39;49m\u001b[39m'\u001b[39;49m\u001b[39m今天天气怎么样\u001b[39;49m\u001b[39m'\u001b[39;49m,\n\u001b[1;32m     <a href='vscode-notebook-cell:/Users/mac/Documents/Working/1_Me/2_Datawhale/%E6%95%99%E7%A8%8B%E7%BC%96%E5%86%99/%E5%8A%A8%E6%89%8B%E5%AD%A6Agent%E5%BC%80%E5%8F%91/agent-tutorial/notebook/%E7%AC%AC%E4%B8%89%E7%AB%A0%EF%BC%9AAgent%E5%BA%94%E7%94%A8%E5%B1%95%E6%9C%9B/demo-code/dashscope-demo.ipynb#W0sZmlsZQ%3D%3D?line=32'>33</a>\u001b[0m                        sample_rate\u001b[39m=\u001b[39;49m\u001b[39m48000\u001b[39;49m,\n\u001b[1;32m     <a href='vscode-notebook-cell:/Users/mac/Documents/Working/1_Me/2_Datawhale/%E6%95%99%E7%A8%8B%E7%BC%96%E5%86%99/%E5%8A%A8%E6%89%8B%E5%AD%A6Agent%E5%BC%80%E5%8F%91/agent-tutorial/notebook/%E7%AC%AC%E4%B8%89%E7%AB%A0%EF%BC%9AAgent%E5%BA%94%E7%94%A8%E5%B1%95%E6%9C%9B/demo-code/dashscope-demo.ipynb#W0sZmlsZQ%3D%3D?line=33'>34</a>\u001b[0m                        callback\u001b[39m=\u001b[39;49mcallback,\n\u001b[1;32m     <a href='vscode-notebook-cell:/Users/mac/Documents/Working/1_Me/2_Datawhale/%E6%95%99%E7%A8%8B%E7%BC%96%E5%86%99/%E5%8A%A8%E6%89%8B%E5%AD%A6Agent%E5%BC%80%E5%8F%91/agent-tutorial/notebook/%E7%AC%AC%E4%B8%89%E7%AB%A0%EF%BC%9AAgent%E5%BA%94%E7%94%A8%E5%B1%95%E6%9C%9B/demo-code/dashscope-demo.ipynb#W0sZmlsZQ%3D%3D?line=34'>35</a>\u001b[0m                        word_timestamp_enabled\u001b[39m=\u001b[39;49m\u001b[39mTrue\u001b[39;49;00m,\n\u001b[1;32m     <a href='vscode-notebook-cell:/Users/mac/Documents/Working/1_Me/2_Datawhale/%E6%95%99%E7%A8%8B%E7%BC%96%E5%86%99/%E5%8A%A8%E6%89%8B%E5%AD%A6Agent%E5%BC%80%E5%8F%91/agent-tutorial/notebook/%E7%AC%AC%E4%B8%89%E7%AB%A0%EF%BC%9AAgent%E5%BA%94%E7%94%A8%E5%B1%95%E6%9C%9B/demo-code/dashscope-demo.ipynb#W0sZmlsZQ%3D%3D?line=35'>36</a>\u001b[0m                        phoneme_timestamp_enabled\u001b[39m=\u001b[39;49m\u001b[39mTrue\u001b[39;49;00m)\n",
      "File \u001b[0;32m~/Library/Python/3.9/lib/python/site-packages/dashscope/audio/tts/speech_synthesizer.py:143\u001b[0m, in \u001b[0;36mSpeechSynthesizer.call\u001b[0;34m(cls, model, text, callback, **kwargs)\u001b[0m\n\u001b[1;32m    140\u001b[0m \u001b[39mif\u001b[39;00m _callback \u001b[39mis\u001b[39;00m \u001b[39mnot\u001b[39;00m \u001b[39mNone\u001b[39;00m:\n\u001b[1;32m    141\u001b[0m     _callback\u001b[39m.\u001b[39mon_open()\n\u001b[0;32m--> 143\u001b[0m \u001b[39mfor\u001b[39;00m part \u001b[39min\u001b[39;00m response:\n\u001b[1;32m    144\u001b[0m     \u001b[39mif\u001b[39;00m \u001b[39misinstance\u001b[39m(part\u001b[39m.\u001b[39moutput, \u001b[39mbytes\u001b[39m):\n\u001b[1;32m    145\u001b[0m         \u001b[39mif\u001b[39;00m _callback \u001b[39mis\u001b[39;00m \u001b[39mnot\u001b[39;00m \u001b[39mNone\u001b[39;00m:\n",
      "File \u001b[0;32m~/Library/Python/3.9/lib/python/site-packages/dashscope/api_entities/websocket_request.py:71\u001b[0m, in \u001b[0;36m<genexpr>\u001b[0;34m(.0)\u001b[0m\n\u001b[1;32m     69\u001b[0m response \u001b[39m=\u001b[39m async_to_sync(\u001b[39mself\u001b[39m\u001b[39m.\u001b[39mconnection_handler())\n\u001b[1;32m     70\u001b[0m \u001b[39mif\u001b[39;00m \u001b[39mself\u001b[39m\u001b[39m.\u001b[39mstream:\n\u001b[0;32m---> 71\u001b[0m     \u001b[39mreturn\u001b[39;00m (item \u001b[39mfor\u001b[39;00m item \u001b[39min\u001b[39;00m response)\n\u001b[1;32m     72\u001b[0m \u001b[39melse\u001b[39;00m:\n\u001b[1;32m     73\u001b[0m     output \u001b[39m=\u001b[39m \u001b[39mnext\u001b[39m(response)\n",
      "File \u001b[0;32m~/Library/Python/3.9/lib/python/site-packages/dashscope/common/utils.py:95\u001b[0m, in \u001b[0;36masync_to_sync\u001b[0;34m(async_generator)\u001b[0m\n\u001b[1;32m     93\u001b[0m loop \u001b[39m=\u001b[39m asyncio\u001b[39m.\u001b[39mget_event_loop_policy()\u001b[39m.\u001b[39mnew_event_loop()\n\u001b[1;32m     94\u001b[0m asyncio\u001b[39m.\u001b[39mset_event_loop(loop)\n\u001b[0;32m---> 95\u001b[0m \u001b[39mfor\u001b[39;00m message \u001b[39min\u001b[39;00m iter_over_async(async_generator, loop):\n\u001b[1;32m     96\u001b[0m     \u001b[39myield\u001b[39;00m message\n",
      "File \u001b[0;32m~/Library/Python/3.9/lib/python/site-packages/dashscope/common/utils.py:85\u001b[0m, in \u001b[0;36miter_over_async\u001b[0;34m(ait, loop)\u001b[0m\n\u001b[1;32m     82\u001b[0m         \u001b[39mreturn\u001b[39;00m \u001b[39mTrue\u001b[39;00m, \u001b[39mNone\u001b[39;00m\n\u001b[1;32m     84\u001b[0m \u001b[39mwhile\u001b[39;00m \u001b[39mTrue\u001b[39;00m:\n\u001b[0;32m---> 85\u001b[0m     done, obj \u001b[39m=\u001b[39m loop\u001b[39m.\u001b[39;49mrun_until_complete(get_next())\n\u001b[1;32m     86\u001b[0m     \u001b[39mif\u001b[39;00m done:\n\u001b[1;32m     87\u001b[0m         loop\u001b[39m.\u001b[39mclose()\n",
      "File \u001b[0;32m/Library/Developer/CommandLineTools/Library/Frameworks/Python3.framework/Versions/3.9/lib/python3.9/asyncio/base_events.py:618\u001b[0m, in \u001b[0;36mBaseEventLoop.run_until_complete\u001b[0;34m(self, future)\u001b[0m\n\u001b[1;32m    607\u001b[0m \u001b[39m\u001b[39m\u001b[39m\"\"\"Run until the Future is done.\u001b[39;00m\n\u001b[1;32m    608\u001b[0m \n\u001b[1;32m    609\u001b[0m \u001b[39mIf the argument is a coroutine, it is wrapped in a Task.\u001b[39;00m\n\u001b[0;32m   (...)\u001b[0m\n\u001b[1;32m    615\u001b[0m \u001b[39mReturn the Future's result, or raise its exception.\u001b[39;00m\n\u001b[1;32m    616\u001b[0m \u001b[39m\"\"\"\u001b[39;00m\n\u001b[1;32m    617\u001b[0m \u001b[39mself\u001b[39m\u001b[39m.\u001b[39m_check_closed()\n\u001b[0;32m--> 618\u001b[0m \u001b[39mself\u001b[39;49m\u001b[39m.\u001b[39;49m_check_running()\n\u001b[1;32m    620\u001b[0m new_task \u001b[39m=\u001b[39m \u001b[39mnot\u001b[39;00m futures\u001b[39m.\u001b[39misfuture(future)\n\u001b[1;32m    621\u001b[0m future \u001b[39m=\u001b[39m tasks\u001b[39m.\u001b[39mensure_future(future, loop\u001b[39m=\u001b[39m\u001b[39mself\u001b[39m)\n",
      "File \u001b[0;32m/Library/Developer/CommandLineTools/Library/Frameworks/Python3.framework/Versions/3.9/lib/python3.9/asyncio/base_events.py:580\u001b[0m, in \u001b[0;36mBaseEventLoop._check_running\u001b[0;34m(self)\u001b[0m\n\u001b[1;32m    578\u001b[0m     \u001b[39mraise\u001b[39;00m \u001b[39mRuntimeError\u001b[39;00m(\u001b[39m'\u001b[39m\u001b[39mThis event loop is already running\u001b[39m\u001b[39m'\u001b[39m)\n\u001b[1;32m    579\u001b[0m \u001b[39mif\u001b[39;00m events\u001b[39m.\u001b[39m_get_running_loop() \u001b[39mis\u001b[39;00m \u001b[39mnot\u001b[39;00m \u001b[39mNone\u001b[39;00m:\n\u001b[0;32m--> 580\u001b[0m     \u001b[39mraise\u001b[39;00m \u001b[39mRuntimeError\u001b[39;00m(\n\u001b[1;32m    581\u001b[0m         \u001b[39m'\u001b[39m\u001b[39mCannot run the event loop while another loop is running\u001b[39m\u001b[39m'\u001b[39m)\n",
      "\u001b[0;31mRuntimeError\u001b[0m: Cannot run the event loop while another loop is running"
     ]
    }
   ],
   "source": [
    "# coding=utf-8\n",
    "\n",
    "import dashscope\n",
    "import sys\n",
    "from dashscope.api_entities.dashscope_response import SpeechSynthesisResponse\n",
    "from dashscope.audio.tts import ResultCallback, SpeechSynthesizer, SpeechSynthesisResult\n",
    "\n",
    "dashscope.api_key='DASHSCOPE_API_KEY'\n",
    "\n",
    "class Callback(ResultCallback):\n",
    "    def on_open(self):\n",
    "        print('Speech synthesizer is opened.')\n",
    "\n",
    "    def on_complete(self):\n",
    "        print('Speech synthesizer is completed.')\n",
    "\n",
    "    def on_error(self, response: SpeechSynthesisResponse):\n",
    "        print('Speech synthesizer failed, response is %s' % (str(response)))\n",
    "\n",
    "    def on_close(self):\n",
    "        print('Speech synthesizer is closed.')\n",
    "\n",
    "    def on_event(self, result: SpeechSynthesisResult):\n",
    "        if result.get_audio_frame() is not None:\n",
    "            asyncio.run_in_executor(None, print, 'audio result length:', sys.getsizeof(result.get_audio_frame()))\n",
    "\n",
    "        if result.get_timestamp() is not None:\n",
    "            asyncio.run_in_executor(None, print, 'timestamp result:', str(result.get_timestamp()))\n",
    "\n",
    "callback = Callback()\n",
    "SpeechSynthesizer.call(model='sambert-zhichu-v1',\n",
    "                       text='今天天气怎么样',\n",
    "                       sample_rate=48000,\n",
    "                       callback=callback,\n",
    "                       word_timestamp_enabled=True,\n",
    "                       phoneme_timestamp_enabled=True)"
   ]
  }
 ],
 "metadata": {
  "kernelspec": {
   "display_name": "Python 3",
   "language": "python",
   "name": "python3"
  },
  "language_info": {
   "codemirror_mode": {
    "name": "ipython",
    "version": 3
   },
   "file_extension": ".py",
   "mimetype": "text/x-python",
   "name": "python",
   "nbconvert_exporter": "python",
   "pygments_lexer": "ipython3",
   "version": "3.9.6"
  }
 },
 "nbformat": 4,
 "nbformat_minor": 2
}
